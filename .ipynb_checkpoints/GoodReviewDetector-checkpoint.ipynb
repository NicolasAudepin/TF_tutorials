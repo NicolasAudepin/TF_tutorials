{
 "cells": [
  {
   "cell_type": "code",
   "execution_count": 15,
   "metadata": {},
   "outputs": [
    {
     "name": "stdout",
     "output_type": "stream",
     "text": [
      "1.13.1\n"
     ]
    }
   ],
   "source": [
    "from __future__ import absolute_import, division, print_function\n",
    "\n",
    "import tensorflow as tf\n",
    "from tensorflow import keras as k\n",
    "\n",
    "import numpy as np\n",
    "\n",
    "import os\n",
    "import sys\n",
    "\n",
    "print(tf.__version__)"
   ]
  },
  {
   "cell_type": "code",
   "execution_count": 48,
   "metadata": {},
   "outputs": [
    {
     "name": "stdout",
     "output_type": "stream",
     "text": [
      "['the', '']\n",
      "the\n"
     ]
    }
   ],
   "source": [
    "dataFolder = \"C:\\\\Users\\\\AUDEPIN\\\\Documents\\\\DataSet\\\\aclImdb-movie-review\\\\\"\n",
    "posFolder  = \"C:\\\\Users\\\\AUDEPIN\\\\Documents\\\\DataSet\\\\aclImdb-movie-review\\\\train\\\\pos\\\\\"\n",
    "negFolder  = \"C:\\\\Users\\\\AUDEPIN\\\\Documents\\\\DataSet\\\\aclImdb-movie-review\\\\train\\\\neg\\\\\"\n",
    "\n",
    "voc = open(dataFolder + \"vocab.txt\", encoding=\"utf8\")\n",
    "liste = [line.split('\\n') for line in voc.readlines()]\n",
    "print(liste[0])\n",
    "IndexToWord = [line[0] for line in liste]\n",
    "print(IndexToWord[0])\n",
    "\n",
    "WordToIndex = {}\n",
    "n = len(IndexToWord)\n",
    "\n",
    "for i in range(n) :\n",
    "    WordToIndex[IndexToWord[i]] = i\n",
    "#print(WordToIndex)\n",
    "#print(voc.read())\n"
   ]
  },
  {
   "cell_type": "code",
   "execution_count": 74,
   "metadata": {},
   "outputs": [],
   "source": [
    "dataSet=[]\n",
    "\n",
    "foldlist= [posDir,negDir]\n",
    "for fold in foldlist:\n",
    "    directory = os.fsencode(fold)\n",
    "    for fileNamebytes in sorted(os.listdir(directory)):\n",
    "        fileName = fileNamebytes.strip().decode('utf-8')\n",
    "        review = open(posFolder+fileName, encoding = \"utf8\")\n",
    "        revList = [word.split(' ') for word in review.readlines()]\n",
    "\n",
    "        revIndex = []\n",
    "        for i in range(500):\n",
    "            if i<len(revList[0]):\n",
    "                if  (revList[0][i] in WordToIndex): \n",
    "                    wordVal = WordToIndex[revList[0][i]]\n",
    "                else:\n",
    "                    wordVal = 0\n",
    "            else:\n",
    "                wordVal = 0\n",
    "            revIndex.append(wordVal)\n",
    "        dataSet.append(revIndex)"
   ]
  },
  {
   "cell_type": "code",
   "execution_count": 77,
   "metadata": {},
   "outputs": [
    {
     "name": "stdout",
     "output_type": "stream",
     "text": [
      "True\n",
      "34\n",
      "1\n",
      "[0, 0, 84, 318, 0, 0, 61, 0, 11, 606, 7, 30, 0, 396, 449, 4272, 30, 0, 0, 26, 1, 143, 21, 2205, 41, 1, 0, 0, 108, 0, 69, 24, 147, 73, 336, 0, 17, 301, 3, 31, 309, 61, 1, 22, 841, 4, 64, 479, 0, 12876, 3, 0, 0, 0, 0, 0, 1, 152, 0, 0, 24, 354, 0, 0, 0, 0, 40, 0, 201, 1124, 3, 7622, 0, 0, 2272, 0, 6300, 3221, 3, 0, 1, 1583, 173, 64, 23, 1618, 14, 1284, 3, 1625, 190, 7, 23, 11026, 0, 1, 0, 174, 181, 0, 0, 0, 69, 22, 1657, 4, 0, 1791, 7, 9, 449, 69, 22, 1519, 10, 156, 5, 121, 12, 6, 180, 1, 10, 0, 9735, 1449, 66, 632, 253, 442, 0, 0, 9330, 4, 707, 2, 263, 416, 30, 2, 179, 124, 486, 80, 2, 116, 2637, 1449, 10, 1469, 0, 162, 0, 2044, 722, 300, 4, 1612, 18, 1, 814, 0, 0, 0, 4, 77, 10, 87, 75, 76, 760, 9, 0, 0, 60, 131, 10, 82, 0, 849, 0, 76, 232, 100, 0, 0, 7, 2, 610, 0, 0, 154, 160, 0, 0, 0, 0, 0, 0, 0, 0, 0, 2350, 0, 2504, 69, 28, 218, 162, 1, 137, 140, 7, 3061, 4, 25, 123, 0, 0, 23, 15, 0, 0, 0, 21, 43, 9436, 56, 12, 31, 264, 1, 90, 153, 481, 404, 3, 0, 0, 0, 1, 155, 0, 0, 0, 255, 0, 0, 12, 0, 2302, 171, 132, 21, 5, 0, 0, 43, 0, 0, 942, 124, 260, 1, 277, 0, 0, 9, 11395, 628, 21, 95, 1612, 23, 196, 15, 201, 0, 0, 0, 0, 0, 0, 0, 0, 0, 0, 0, 0, 0, 0, 0, 0, 0, 0, 0, 0, 0, 0, 0, 0, 0, 0, 0, 0, 0, 0, 0, 0, 0, 0, 0, 0, 0, 0, 0, 0, 0, 0, 0, 0, 0, 0, 0, 0, 0, 0, 0, 0, 0, 0, 0, 0, 0, 0, 0, 0, 0, 0, 0, 0, 0, 0, 0, 0, 0, 0, 0, 0, 0, 0, 0, 0, 0, 0, 0, 0, 0, 0, 0, 0, 0, 0, 0, 0, 0, 0, 0, 0, 0, 0, 0, 0, 0, 0, 0, 0, 0, 0, 0, 0, 0, 0, 0, 0, 0, 0, 0, 0, 0, 0, 0, 0, 0, 0, 0, 0, 0, 0, 0, 0, 0, 0, 0, 0, 0, 0, 0, 0, 0, 0, 0, 0, 0, 0, 0, 0, 0, 0, 0, 0, 0, 0, 0, 0, 0, 0, 0, 0, 0, 0, 0, 0, 0, 0, 0, 0, 0, 0, 0, 0, 0, 0, 0, 0, 0, 0, 0, 0, 0, 0, 0, 0, 0, 0, 0, 0, 0, 0, 0, 0, 0, 0, 0, 0, 0, 0, 0, 0, 0, 0, 0, 0, 0, 0, 0, 0, 0, 0, 0, 0, 0, 0, 0, 0, 0, 0, 0, 0, 0, 0, 0, 0, 0, 0, 0, 0, 0, 0, 0]\n"
     ]
    }
   ],
   "source": [
    "print(revList[0][3] in WordToIndex)\n",
    "print( WordToIndex[revList[0][3]])\n",
    "print(len(revList))\n",
    "\n",
    "print(dataSet[10])"
   ]
  },
  {
   "cell_type": "code",
   "execution_count": null,
   "metadata": {},
   "outputs": [],
   "source": []
  }
 ],
 "metadata": {
  "kernelspec": {
   "display_name": "Python 3",
   "language": "python",
   "name": "python3"
  },
  "language_info": {
   "codemirror_mode": {
    "name": "ipython",
    "version": 3
   },
   "file_extension": ".py",
   "mimetype": "text/x-python",
   "name": "python",
   "nbconvert_exporter": "python",
   "pygments_lexer": "ipython3",
   "version": "3.7.2"
  }
 },
 "nbformat": 4,
 "nbformat_minor": 2
}
